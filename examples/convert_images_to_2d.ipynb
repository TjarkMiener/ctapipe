{
 "cells": [
  {
   "cell_type": "markdown",
   "metadata": {},
   "source": [
    "# Convert camera images to pixels on a s square grid"
   ]
  },
  {
   "cell_type": "code",
   "execution_count": 1,
   "metadata": {
    "execution": {
     "iopub.execute_input": "2023-02-09T14:44:58.726295Z",
     "iopub.status.busy": "2023-02-09T14:44:58.726083Z",
     "iopub.status.idle": "2023-02-09T14:45:02.833914Z",
     "shell.execute_reply": "2023-02-09T14:45:02.833172Z"
    }
   },
   "outputs": [],
   "source": [
    "from ctapipe.utils import get_dataset_path\n",
    "from ctapipe.visualization import CameraDisplay\n",
    "from ctapipe.instrument import SubarrayDescription\n",
    "from ctapipe.io import EventSource\n",
    "from ctapipe.image.toymodel import Gaussian\n",
    "import matplotlib.pyplot as plt\n",
    "import astropy.units as u"
   ]
  },
  {
   "cell_type": "code",
   "execution_count": 2,
   "metadata": {
    "execution": {
     "iopub.execute_input": "2023-02-09T14:45:02.837383Z",
     "iopub.status.busy": "2023-02-09T14:45:02.836656Z",
     "iopub.status.idle": "2023-02-09T14:45:04.126765Z",
     "shell.execute_reply": "2023-02-09T14:45:04.125896Z"
    }
   },
   "outputs": [],
   "source": [
    "# get the subarray from an example file\n",
    "subarray = SubarrayDescription.read(\"dataset://gamma_prod5.simtel.zst\")"
   ]
  },
  {
   "cell_type": "markdown",
   "metadata": {},
   "source": [
    "## Geometries with square pixels\n",
    "\n",
    "Define a camera geometry and generate a dummy image:"
   ]
  },
  {
   "cell_type": "code",
   "execution_count": 3,
   "metadata": {
    "execution": {
     "iopub.execute_input": "2023-02-09T14:45:04.130390Z",
     "iopub.status.busy": "2023-02-09T14:45:04.130002Z",
     "iopub.status.idle": "2023-02-09T14:45:04.137604Z",
     "shell.execute_reply": "2023-02-09T14:45:04.137004Z"
    }
   },
   "outputs": [],
   "source": [
    "geom = subarray.tel[40].camera.geometry\n",
    "model = Gaussian(\n",
    "    x=0.05 * u.m,\n",
    "    y=0.05 * u.m,\n",
    "    width=0.01 * u.m,\n",
    "    length=0.05 * u.m,\n",
    "    psi=\"30d\",\n",
    ")\n",
    "_, image, _ = model.generate_image(geom, intensity=500, nsb_level_pe=3)"
   ]
  },
  {
   "cell_type": "code",
   "execution_count": 4,
   "metadata": {
    "execution": {
     "iopub.execute_input": "2023-02-09T14:45:04.140065Z",
     "iopub.status.busy": "2023-02-09T14:45:04.139753Z",
     "iopub.status.idle": "2023-02-09T14:45:04.520477Z",
     "shell.execute_reply": "2023-02-09T14:45:04.519947Z"
    }
   },
   "outputs": [
    {
     "data": {
      "text/plain": [
       "<ctapipe.visualization.mpl_camera.CameraDisplay at 0x7f49ad70d520>"
      ]
     },
     "execution_count": 4,
     "metadata": {},
     "output_type": "execute_result"
    }
   ],
   "source": [
    "CameraDisplay(geom, image)"
   ]
  },
  {
   "cell_type": "markdown",
   "metadata": {},
   "source": [
    "The `CameraGeometry` has functions to convert the 1d image arrays to 2d arrays and back to the 1d array:"
   ]
  },
  {
   "cell_type": "code",
   "execution_count": 5,
   "metadata": {
    "execution": {
     "iopub.execute_input": "2023-02-09T14:45:04.523319Z",
     "iopub.status.busy": "2023-02-09T14:45:04.522648Z",
     "iopub.status.idle": "2023-02-09T14:45:04.526662Z",
     "shell.execute_reply": "2023-02-09T14:45:04.526145Z"
    }
   },
   "outputs": [],
   "source": [
    "image_square = geom.image_to_cartesian_representation(image)"
   ]
  },
  {
   "cell_type": "code",
   "execution_count": 6,
   "metadata": {
    "execution": {
     "iopub.execute_input": "2023-02-09T14:45:04.529104Z",
     "iopub.status.busy": "2023-02-09T14:45:04.528475Z",
     "iopub.status.idle": "2023-02-09T14:45:04.533575Z",
     "shell.execute_reply": "2023-02-09T14:45:04.533091Z"
    }
   },
   "outputs": [
    {
     "data": {
      "text/plain": [
       "<matplotlib.image.AxesImage at 0x7f49b0a07820>"
      ]
     },
     "execution_count": 6,
     "metadata": {},
     "output_type": "execute_result"
    }
   ],
   "source": [
    "plt.imshow(image_square)"
   ]
  },
  {
   "cell_type": "code",
   "execution_count": 7,
   "metadata": {
    "execution": {
     "iopub.execute_input": "2023-02-09T14:45:04.536035Z",
     "iopub.status.busy": "2023-02-09T14:45:04.535399Z",
     "iopub.status.idle": "2023-02-09T14:45:04.538537Z",
     "shell.execute_reply": "2023-02-09T14:45:04.538030Z"
    }
   },
   "outputs": [],
   "source": [
    "image_1d = geom.image_from_cartesian_representation(image_square)"
   ]
  },
  {
   "cell_type": "code",
   "execution_count": 8,
   "metadata": {
    "execution": {
     "iopub.execute_input": "2023-02-09T14:45:04.540929Z",
     "iopub.status.busy": "2023-02-09T14:45:04.540302Z",
     "iopub.status.idle": "2023-02-09T14:45:04.803349Z",
     "shell.execute_reply": "2023-02-09T14:45:04.802661Z"
    }
   },
   "outputs": [
    {
     "data": {
      "text/plain": [
       "<ctapipe.visualization.mpl_camera.CameraDisplay at 0x7f49b0a07eb0>"
      ]
     },
     "execution_count": 8,
     "metadata": {},
     "output_type": "execute_result"
    }
   ],
   "source": [
    "CameraDisplay(geom, image_1d)"
   ]
  },
  {
   "cell_type": "markdown",
   "metadata": {},
   "source": [
    "## Geometries with hexagonal pixels\n",
    "\n",
    "Define a camera geometry and generate a dummy image:"
   ]
  },
  {
   "cell_type": "code",
   "execution_count": 9,
   "metadata": {
    "execution": {
     "iopub.execute_input": "2023-02-09T14:45:04.806100Z",
     "iopub.status.busy": "2023-02-09T14:45:04.805727Z",
     "iopub.status.idle": "2023-02-09T14:45:04.811792Z",
     "shell.execute_reply": "2023-02-09T14:45:04.811174Z"
    }
   },
   "outputs": [],
   "source": [
    "geom = subarray.tel[1].camera.geometry\n",
    "model = Gaussian(\n",
    "    x=0.5 * u.m,\n",
    "    y=0.5 * u.m,\n",
    "    width=0.1 * u.m,\n",
    "    length=0.2 * u.m,\n",
    "    psi=\"30d\",\n",
    ")\n",
    "_, image, _ = model.generate_image(geom, intensity=5000)"
   ]
  },
  {
   "cell_type": "code",
   "execution_count": 10,
   "metadata": {
    "execution": {
     "iopub.execute_input": "2023-02-09T14:45:04.814506Z",
     "iopub.status.busy": "2023-02-09T14:45:04.814176Z",
     "iopub.status.idle": "2023-02-09T14:45:05.086971Z",
     "shell.execute_reply": "2023-02-09T14:45:05.086348Z"
    }
   },
   "outputs": [
    {
     "data": {
      "text/plain": [
       "<ctapipe.visualization.mpl_camera.CameraDisplay at 0x7f49b0a12d90>"
      ]
     },
     "execution_count": 10,
     "metadata": {},
     "output_type": "execute_result"
    }
   ],
   "source": [
    "CameraDisplay(geom, image)"
   ]
  },
  {
   "cell_type": "code",
   "execution_count": 11,
   "metadata": {
    "execution": {
     "iopub.execute_input": "2023-02-09T14:45:05.090052Z",
     "iopub.status.busy": "2023-02-09T14:45:05.089533Z",
     "iopub.status.idle": "2023-02-09T14:45:05.096222Z",
     "shell.execute_reply": "2023-02-09T14:45:05.095642Z"
    }
   },
   "outputs": [],
   "source": [
    "image_square = geom.image_to_cartesian_representation(image)"
   ]
  },
  {
   "cell_type": "markdown",
   "metadata": {},
   "source": [
    "## Conversion into square geometry\n",
    "\n",
    "Since the resulting array has square pixels, the pixel grid has to be rotated and distorted.\n",
    "This is reversible (The `image_from_cartesian_representation` method takes care of this):"
   ]
  },
  {
   "cell_type": "code",
   "execution_count": 12,
   "metadata": {
    "execution": {
     "iopub.execute_input": "2023-02-09T14:45:05.099053Z",
     "iopub.status.busy": "2023-02-09T14:45:05.098591Z",
     "iopub.status.idle": "2023-02-09T14:45:05.105452Z",
     "shell.execute_reply": "2023-02-09T14:45:05.104887Z"
    }
   },
   "outputs": [
    {
     "data": {
      "text/plain": [
       "<matplotlib.image.AxesImage at 0x7f49ab76f4f0>"
      ]
     },
     "execution_count": 12,
     "metadata": {},
     "output_type": "execute_result"
    }
   ],
   "source": [
    "plt.imshow(image_square)"
   ]
  },
  {
   "cell_type": "code",
   "execution_count": 13,
   "metadata": {
    "execution": {
     "iopub.execute_input": "2023-02-09T14:45:05.108128Z",
     "iopub.status.busy": "2023-02-09T14:45:05.107666Z",
     "iopub.status.idle": "2023-02-09T14:45:05.111600Z",
     "shell.execute_reply": "2023-02-09T14:45:05.111013Z"
    }
   },
   "outputs": [],
   "source": [
    "image_1d = geom.image_from_cartesian_representation(image_square)"
   ]
  },
  {
   "cell_type": "code",
   "execution_count": 14,
   "metadata": {
    "execution": {
     "iopub.execute_input": "2023-02-09T14:45:05.114119Z",
     "iopub.status.busy": "2023-02-09T14:45:05.113574Z",
     "iopub.status.idle": "2023-02-09T14:45:05.504481Z",
     "shell.execute_reply": "2023-02-09T14:45:05.503699Z"
    }
   },
   "outputs": [],
   "source": [
    "disp = CameraDisplay(geom, image_1d)"
   ]
  }
 ],
 "metadata": {
  "kernelspec": {
   "display_name": "Python 3 (ipykernel)",
   "language": "python",
   "name": "python3"
  },
  "language_info": {
   "codemirror_mode": {
    "name": "ipython",
    "version": 3
   },
   "file_extension": ".py",
   "mimetype": "text/x-python",
   "name": "python",
   "nbconvert_exporter": "python",
   "pygments_lexer": "ipython3",
   "version": "3.8.16"
  }
 },
 "nbformat": 4,
 "nbformat_minor": 4
}
